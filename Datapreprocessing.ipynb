{
  "nbformat": 4,
  "nbformat_minor": 0,
  "metadata": {
    "colab": {
      "name": "MUSIC_DATA_EXTRACTION.ipynb",
      "provenance": [],
      "collapsed_sections": []
    },
    "kernelspec": {
      "display_name": "Python 3",
      "name": "python3"
    },
    "language_info": {
      "name": "python"
    }
  },
  "cells": [
    {
      "cell_type": "markdown",
      "metadata": {
        "id": "h7Zq6owePd2_"
      },
      "source": [
        "DATA PREPROCESSING HAPPENS HERE"
      ]
    },
    {
      "cell_type": "code",
      "metadata": {
        "id": "dGJUar8yPZCN"
      },
      "source": [
        "import numpy as np # linear algebra\n",
        "import pandas as pd # data processing, CSV file I/O (e.g. pd.read_csv)\n",
        "\n",
        "# Listing current data on our folder.\n",
        "import os\n",
        "print(os.listdir(\".\"))"
      ],
      "execution_count": null,
      "outputs": []
    },
    {
      "cell_type": "code",
      "metadata": {
        "id": "aG76qkRbaNGN"
      },
      "source": [
        "import numpy as np #for covering the text to vectors\n",
        "import pandas as pd# for the dataframe\n",
        "from music21 import converter, corpus, instrument, midi, note, chord, pitch,stream,roman \n",
        "#for analysis of the MIDI files to understand the structure of the file\n",
        "import matplotlib.pyplot as plt\n",
        "import matplotlib.lines as mlines\n",
        "#to plot the analysis\n",
        "import requests#for webscraping the data\n",
        "from bs4 import BeautifulSoup #for webscraping the data\n",
        "# from multiprocessing.dummy import Pool as ThreadPool # Use this when IO is the problem\n",
        "from multiprocessing import Pool # Use this when CPU-intensive functions are the problem.\n",
        "import gensim, logging\n",
        "#use for the WORD2VEC model to find the similarity relationship between the similar chords\n",
        "import pprint"
      ],
      "execution_count": null,
      "outputs": []
    },
    {
      "cell_type": "code",
      "metadata": {
        "colab": {
          "base_uri": "https://localhost:8080/"
        },
        "id": "43lyIdzcg8hH",
        "outputId": "17ae6af9-8805-4c43-b926-f3d31307ab99"
      },
      "source": [
        "# creating a new folder for MIDIs.\n",
        "midi_path = \"MIDIs\"\n",
        "sonic_folder = \"sonic\"\n",
        "\n",
        "!rm -r $midi_path\n",
        "!mkdir $midi_path\n",
        "\n",
        "#functions to create the folder for the dataset   \n",
        "def concat_path(path, child):\n",
        "    return path + \"/\" + child\n",
        "\n",
        "def download_midi(midi_url, path):\n",
        "    !wget $midi_url --directory-prefix $path > download_midi.log\n",
        "\n",
        "# Downloading a single MIDI file.\n",
        "sonic_path = concat_path(midi_path, sonic_folder)\n",
        "download_midi(\n",
        "    \"https://files.khinsider.com/midifiles/genesis/sonic-the-hedgehog/green-hill-zone.mid\",\n",
        "    sonic_path)\n",
        "    \n",
        "print(os.listdir(sonic_path))\n"
      ],
      "execution_count": null,
      "outputs": [
        {
          "output_type": "stream",
          "text": [
            "rm: cannot remove 'MIDIs': No such file or directory\n",
            "--2021-08-08 11:26:55--  https://files.khinsider.com/midifiles/genesis/sonic-the-hedgehog/green-hill-zone.mid\n",
            "Resolving files.khinsider.com (files.khinsider.com)... 45.56.66.21\n",
            "Connecting to files.khinsider.com (files.khinsider.com)|45.56.66.21|:443... connected.\n",
            "HTTP request sent, awaiting response... 200 OK\n",
            "Length: 13034 (13K) [audio/midi]\n",
            "Saving to: ‘MIDIs/sonic/green-hill-zone.mid’\n",
            "\n",
            "green-hill-zone.mid 100%[===================>]  12.73K  --.-KB/s    in 0s      \n",
            "\n",
            "2021-08-08 11:26:56 (138 MB/s) - ‘MIDIs/sonic/green-hill-zone.mid’ saved [13034/13034]\n",
            "\n",
            "['green-hill-zone.mid']\n"
          ],
          "name": "stdout"
        }
      ]
    },
    {
      "cell_type": "code",
      "metadata": {
        "colab": {
          "base_uri": "https://localhost:8080/"
        },
        "id": "irDubNE_hM2w",
        "outputId": "c72afa8e-2804-4161-baeb-009bfa47aabe"
      },
      "source": [
        "#from music21 import converter, corpus, instrument, midi, note, chord, pitch\n",
        "#function to open the MIDI file and  delete the drum track\n",
        "def open_midi(midi_path, remove_drums):\n",
        "   \n",
        "    mf = midi.MidiFile()\n",
        "    mf.open(midi_path)\n",
        "    mf.read()\n",
        "    mf.close()\n",
        "    if (remove_drums):\n",
        "        for i in range(len(mf.tracks)):\n",
        "            mf.tracks[i].events = [ev for ev in mf.tracks[i].events if ev.channel != 10]          \n",
        "\n",
        "    return midi.translate.midiFileToStream(mf)\n",
        "    \n",
        "base_midi = open_midi(concat_path(sonic_path, \"green-hill-zone.mid\"), True)\n",
        "base_midi"
      ],
      "execution_count": null,
      "outputs": [
        {
          "output_type": "execute_result",
          "data": {
            "text/plain": [
              "<music21.stream.Score 0x7ffba930d750>"
            ]
          },
          "metadata": {
            "tags": []
          },
          "execution_count": 3
        }
      ]
    },
    {
      "cell_type": "code",
      "metadata": {
        "colab": {
          "base_uri": "https://localhost:8080/"
        },
        "id": "VScsvFKwpz1Q",
        "outputId": "d8709f1d-738a-428c-8179-327ed94137a9"
      },
      "source": [
        "#function to list the number of tracks\n",
        "def list_instruments(midi):\n",
        "    partStream = midi.parts.stream()\n",
        "    print(\"List of instruments found on MIDI file:\")\n",
        "    for p in partStream:\n",
        "        aux = p\n",
        "        print (p.partName)\n",
        "\n",
        "list_instruments(base_midi)"
      ],
      "execution_count": null,
      "outputs": [
        {
          "output_type": "stream",
          "text": [
            "List of instruments found on MIDI file:\n",
            "None\n",
            "None\n",
            "None\n",
            "None\n",
            "None\n",
            "None\n",
            "None\n",
            "Electric Guitar\n"
          ],
          "name": "stdout"
        }
      ]
    },
    {
      "cell_type": "code",
      "metadata": {
        "colab": {
          "base_uri": "https://localhost:8080/",
          "height": 348
        },
        "id": "P29Lx6UDp5gF",
        "outputId": "2e2784b6-699d-4158-9d52-9a8787ac933f"
      },
      "source": [
        "#import matplotlib.pyplot as plt\n",
        "#import matplotlib.lines as mlines\n",
        "# Extract the notes from the file and Visualizing the results\n",
        "def extract_notes(midi_part):\n",
        "    parent_element = []\n",
        "    ret = []\n",
        "    for nt in midi_part.flat.notes:        \n",
        "        if isinstance(nt, note.Note):\n",
        "            ret.append(max(0.0, nt.pitch.ps))\n",
        "            parent_element.append(nt)\n",
        "        elif isinstance(nt, chord.Chord):\n",
        "            for pitch in nt.pitches:\n",
        "                ret.append(max(0.0, pitch.ps))\n",
        "                parent_element.append(nt)\n",
        "    \n",
        "    return ret, parent_element\n",
        "\n",
        "def print_parts_countour(midi):\n",
        "    fig = plt.figure(figsize=(12, 5))\n",
        "    ax = fig.add_subplot(1, 1, 1)\n",
        "    minPitch = pitch.Pitch('C10').ps\n",
        "    maxPitch = 0\n",
        "    xMax = 0\n",
        "    \n",
        "    # Drawing notes.\n",
        "    for i in range(len(midi.parts)):\n",
        "        top = midi.parts[i].flat.notes                  \n",
        "        y, parent_element = extract_notes(top)\n",
        "        if (len(y) < 1): continue\n",
        "            \n",
        "        x = [n.offset for n in parent_element]\n",
        "        ax.scatter(x, y, alpha=0.6, s=7)\n",
        "        \n",
        "        aux = min(y)\n",
        "        if (aux < minPitch): minPitch = aux\n",
        "            \n",
        "        aux = max(y)\n",
        "        if (aux > maxPitch): maxPitch = aux\n",
        "            \n",
        "        aux = max(x)\n",
        "        if (aux > xMax): xMax = aux\n",
        "    \n",
        "    for i in range(1, 10):\n",
        "        linePitch = pitch.Pitch('C{0}'.format(i)).ps\n",
        "        if (linePitch > minPitch and linePitch < maxPitch):\n",
        "            ax.add_line(mlines.Line2D([0, xMax], [linePitch, linePitch], color='red', alpha=0.1))            \n",
        "\n",
        "    plt.ylabel(\"Note index (each octave has 12 notes)\")\n",
        "    plt.xlabel(\"Number of quarter notes (beats)\")\n",
        "    plt.title('Voices motion approximation, each color is a different instrument, red lines show each octave')\n",
        "    plt.show()\n",
        "\n",
        "# Focusing only on 6 first measures to make it easier to understand.\n",
        "print_parts_countour(base_midi.measures(0, 6))"
      ],
      "execution_count": null,
      "outputs": [
        {
          "output_type": "display_data",
          "data": {
            "image/png": "[encoded data removed]",
            "text/plain": [
              "<Figure size 864x360 with 1 Axes>"
            ]
          },
          "metadata": {
            "tags": [],
            "image/png": {
              "height": 331,
              "width": 717
            }
          }
        }
      ]
    },
    {
      "cell_type": "code",
      "metadata": {
        "colab": {
          "base_uri": "https://localhost:8080/"
        },
        "id": "i_1Pk6m7qfSA",
        "outputId": "79d811fb-ee20-4be9-f312-accd1d36dc0a"
      },
      "source": [
        "#extracting the other informations like Time Signature, key Signature,Music key confidence\n",
        "timeSignature = base_midi.getTimeSignatures()[0]\n",
        "music_analysis = base_midi.analyze('key')\n",
        "print(\"Music time signature: {0}/{1}\".format(timeSignature.beatCount, timeSignature.denominator))\n",
        "print(\"Expected music key: {0}\".format(music_analysis))\n",
        "print(\"Music key confidence: {0}\".format(music_analysis.correlationCoefficient))\n",
        "print(\"Other music key alternatives:\")\n",
        "for analysis in music_analysis.alternateInterpretations:\n",
        "    if (analysis.correlationCoefficient > 0.5):\n",
        "        print(analysis)\n"
      ],
      "execution_count": null,
      "outputs": [
        {
          "output_type": "stream",
          "text": [
            "Music time signature: 4/4\n",
            "Expected music key: a minor\n",
            "Music key confidence: 0.8770275812674332\n",
            "Other music key alternatives:\n",
            "C major\n",
            "F major\n",
            "G major\n",
            "d minor\n"
          ],
          "name": "stdout"
        }
      ]
    },
    {
      "cell_type": "code",
      "metadata": {
        "colab": {
          "base_uri": "https://localhost:8080/",
          "height": 713
        },
        "id": "QqauxVwrqhim",
        "outputId": "5abb34ce-0fec-463c-e049-cb19f640e743"
      },
      "source": [
        "#from music21 import stream\n",
        "\n",
        "#visualizing the chords extracted\n",
        "temp_midi_chords = open_midi(\n",
        "    concat_path(sonic_path, \"green-hill-zone.mid\"),\n",
        "    True).chordify()\n",
        "temp_midi = stream.Score()\n",
        "temp_midi.insert(0, temp_midi_chords)\n",
        "\n",
        "# Printing merged tracks.\n",
        "print_parts_countour(temp_midi)\n",
        "\n",
        "# Dumping first measure notes\n",
        "temp_midi_chords.measures(0, 1).show(\"text\")"
      ],
      "execution_count": null,
      "outputs": [
        {
          "output_type": "display_data",
          "data": {
            "image/png": "[encoded data removed]",
            "text/plain": [
              "<Figure size 864x360 with 1 Axes>"
            ]
          },
          "metadata": {
            "tags": [],
            "image/png": {
              "height": 331,
              "width": 723
            }
          }
        },
        {
          "output_type": "stream",
          "text": [
            "{0.0} <music21.stream.Measure 1 offset=0.0>\n",
            "    {0.0} <music21.instrument.Instrument >\n",
            "    {0.0} <music21.clef.TrebleClef>\n",
            "    {0.0} <music21.tempo.MetronomeMark Quarter=175.0>\n",
            "    {0.0} <music21.meter.TimeSignature 4/4>\n",
            "    {0.0} <music21.chord.Chord A5>\n",
            "    {0.25} <music21.chord.Chord F5>\n",
            "    {0.5} <music21.chord.Chord A1 A5>\n",
            "    {0.75} <music21.chord.Chord A1 F5>\n",
            "    {1.0} <music21.chord.Chord A2 B5>\n",
            "    {1.25} <music21.chord.Chord A2 G5>\n",
            "    {1.5} <music21.chord.Chord A1 B5>\n",
            "    {1.75} <music21.chord.Chord A1 G5>\n",
            "    {2.0} <music21.chord.Chord B-1 C6>\n",
            "    {2.25} <music21.chord.Chord B-1 A5>\n",
            "    {2.5} <music21.chord.Chord B-2 C6>\n",
            "    {2.75} <music21.chord.Chord B-2 A5>\n",
            "    {3.0} <music21.chord.Chord B1 D6>\n",
            "    {3.25} <music21.chord.Chord B1 B5>\n",
            "    {3.5} <music21.chord.Chord B2 D6>\n",
            "    {3.75} <music21.chord.Chord B2 B5>\n"
          ],
          "name": "stdout"
        }
      ]
    },
    {
      "cell_type": "code",
      "metadata": {
        "colab": {
          "base_uri": "https://localhost:8080/"
        },
        "id": "GDGBa_IzqszT",
        "outputId": "2ac0ab29-2a3e-4f5a-afea-9d244f09e328"
      },
      "source": [
        "#from music21 import roman\n",
        "\n",
        "\n",
        "#performing harmonic reduction on the Midi file\n",
        "def note_count(measure, count_dict):\n",
        "    bass_note = None\n",
        "    for chord in measure.recurse().getElementsByClass('Chord'):\n",
        "        # All notes have the same length of its chord parent.\n",
        "        note_length = chord.quarterLength\n",
        "        for note in chord.pitches:          \n",
        "            # If note is \"C5\", note.name is \"C\". We use \"C5\"\n",
        "            # style to be able to detect more precise inversions.\n",
        "            note_name = str(note) \n",
        "            if (bass_note is None or bass_note.ps > note.ps):\n",
        "                bass_note = note\n",
        "                \n",
        "            if note_name in count_dict:\n",
        "                count_dict[note_name] += note_length\n",
        "            else:\n",
        "                count_dict[note_name] = note_length\n",
        "        \n",
        "    return bass_note\n",
        "                \n",
        "def simplify_roman_name(roman_numeral):\n",
        "    # Chords can get nasty names as \"bII#86#6#5\",\n",
        "    # in this method we try to simplify names, even if it ends in\n",
        "    # a different chord to reduce the chord vocabulary and display\n",
        "    # chord function clearer.\n",
        "    ret = roman_numeral.romanNumeral\n",
        "    inversion_name = None\n",
        "    inversion = roman_numeral.inversion()\n",
        "    \n",
        "    # Checking valid inversions.\n",
        "    if ((roman_numeral.isTriad() and inversion < 3) or\n",
        "            (inversion < 4 and\n",
        "                 (roman_numeral.seventh is not None or roman_numeral.isSeventh()))):\n",
        "        inversion_name = roman_numeral.inversionName()\n",
        "        \n",
        "    if (inversion_name is not None):\n",
        "        ret = ret + str(inversion_name)\n",
        "        \n",
        "    elif (roman_numeral.isDominantSeventh()): ret = ret + \"M7\"\n",
        "    elif (roman_numeral.isDiminishedSeventh()): ret = ret + \"o7\"\n",
        "    return ret\n",
        "                \n",
        "def harmonic_reduction(midi_file):\n",
        "    ret = []\n",
        "    temp_midi = stream.Score()\n",
        "    temp_midi_chords = midi_file.chordify()\n",
        "    temp_midi.insert(0, temp_midi_chords)    \n",
        "    music_key = temp_midi.analyze('key')\n",
        "    max_notes_per_chord = 4   \n",
        "    for m in temp_midi_chords.measures(0, None): # None = get all measures.\n",
        "        if (type(m) != stream.Measure):\n",
        "            continue\n",
        "        \n",
        "        # Here we count all notes length in each measure,\n",
        "        # get the most frequent ones and try to create a chord with them.\n",
        "        count_dict = dict()\n",
        "        bass_note = note_count(m, count_dict)\n",
        "        if (len(count_dict) < 1):\n",
        "            ret.append(\"-\") # Empty measure\n",
        "            continue\n",
        "        \n",
        "        sorted_items = sorted(count_dict.items(), key=lambda x:x[1])\n",
        "        sorted_notes = [item[0] for item in sorted_items[-max_notes_per_chord:]]\n",
        "        measure_chord = chord.Chord(sorted_notes)\n",
        "        \n",
        "        # Convert the chord to the functional roman representation\n",
        "        # to make its information independent of the music key.\n",
        "        roman_numeral = roman.romanNumeralFromChord(measure_chord, music_key)\n",
        "        ret.append(simplify_roman_name(roman_numeral))\n",
        "        \n",
        "    return ret\n",
        "\n",
        "harmonic_reduction(base_midi)[0:10]"
      ],
      "execution_count": null,
      "outputs": [
        {
          "output_type": "execute_result",
          "data": {
            "text/plain": [
              "['ii42', 'III43', '-VI64', 'i42', '-VI', 'i65', 'i65', 'i42', 'III7', 'vi7']"
            ]
          },
          "metadata": {
            "tags": []
          },
          "execution_count": 8
        }
      ]
    },
    {
      "cell_type": "markdown",
      "metadata": {
        "id": "xGESYJqRr-xW"
      },
      "source": [
        "Working on multiple midi files\n"
      ]
    },
    {
      "cell_type": "code",
      "metadata": {
        "id": "wDWiMoqLsDTq"
      },
      "source": [
        "#extraction of the remaining dataset from the website by webscraping\n",
        "#import requests\n",
        "#from bs4 import BeautifulSoup\n",
        "\n",
        "def get_file_name(link):\n",
        "    filename = link.split('/')[::-1][0]\n",
        "    return filename\n",
        "\n",
        "def download_file(link, filename):\n",
        "    mid_file_request = requests.get(link, stream=True)\n",
        "    if (mid_file_request.status_code != 200):\n",
        "        raise Exception(\"Failed to download {0}\".format(url))\n",
        "        \n",
        "    with open(filename, 'wb+') as saveMidFile:\n",
        "        saveMidFile.write(mid_file_request.content)\n",
        "\n",
        "def download_midi_files(url, output_path):\n",
        "    site_request = requests.get(url)\n",
        "    if (site_request.status_code != 200):\n",
        "        raise Exception(\"Failed to access {0}\".format(url))\n",
        "    \n",
        "    soup = BeautifulSoup(site_request.content, 'html.parser')\n",
        "    link_urls = soup.find_all('a')\n",
        "\n",
        "    for link in link_urls:\n",
        "        href = link['href']\n",
        "        if (href.endswith(\".mid\")):\n",
        "            file_name = get_file_name(href)\n",
        "            download_path = concat_path(output_path, file_name)\n",
        "            midi_request = download_file(href, download_path)\n",
        "\n",
        "def start_midis_download(folder, url):\n",
        "    !mkdir $folder # It is fine if this command fails when the directory already exists.\n",
        "    download_midi_files(url, folder)\n",
        "\n",
        "target_games = dict()\n",
        "target_games[\"sonic1\"] = \"https://www.khinsider.com/midi/genesis/sonic-the-hedgehog\"\n",
        "target_games[\"sonic2\"] = \"https://www.khinsider.com/midi/genesis/sonic-the-hedgehog-2\"\n",
        "target_games[\"sonic3\"] = \"https://www.khinsider.com/midi/genesis/sonic-the-hedgehog-3\"\n",
        "target_games[\"sonicAndKnuckles\"] = \"https://www.khinsider.com/midi/genesis/sonic-and-knuckles\"\n",
        "\n",
        "for key, value in target_games.items():\n",
        "    file_path = concat_path(sonic_path, key)\n",
        "    start_midis_download(file_path, value)\n"
      ],
      "execution_count": null,
      "outputs": []
    },
    {
      "cell_type": "code",
      "metadata": {
        "colab": {
          "base_uri": "https://localhost:8080/"
        },
        "id": "4wB758pnt4mR",
        "outputId": "a22b5377-dd1f-47a1-8aeb-379e1a880897"
      },
      "source": [
        "# from multiprocessing.dummy import Pool as ThreadPool # Use this when IO is the problem\n",
        "from multiprocessing import Pool # Use this when CPU-intensive functions are the problem.\n",
        "\n",
        "# the dataframe is being created from the extracted notes which is going to take some time\n",
        "def process_single_file(midi_param):\n",
        "    try:\n",
        "        game_name = midi_param[0]\n",
        "        midi_path = midi_param[1]\n",
        "        midi_name = get_file_name(midi_path)\n",
        "        midi = open_midi(midi_path, True)\n",
        "        return (\n",
        "            midi.analyze('key'),\n",
        "            game_name,\n",
        "            harmonic_reduction(midi),\n",
        "            midi_name)\n",
        "    except Exception as e:\n",
        "        print(\"Error on {0}\".format(midi_name))\n",
        "        print(e)\n",
        "        return None\n",
        "\n",
        "def create_midi_dataframe(target_games):\n",
        "    key_signature_column = []\n",
        "    game_name_column = []\n",
        "    harmonic_reduction_column = []\n",
        "    midi_name_column = []\n",
        "    pool = Pool(8)\n",
        "    midi_params = []\n",
        "    for key, value in target_games.items():\n",
        "        folder_path = concat_path(sonic_path, key)\n",
        "        for midi_name in os.listdir(folder_path):\n",
        "            midi_params.append((key, concat_path(folder_path, midi_name)))\n",
        "\n",
        "    results = pool.map(process_single_file, midi_params)\n",
        "    for result in results:\n",
        "        if (result is None):\n",
        "            continue\n",
        "            \n",
        "        key_signature_column.append(result[0])\n",
        "        game_name_column.append(result[1])\n",
        "        harmonic_reduction_column.append(result[2])\n",
        "        midi_name_column.append(result[3])\n",
        "    \n",
        "    d = {'midi_name': midi_name_column,\n",
        "         'game_name': game_name_column,\n",
        "         'key_signature' : key_signature_column,\n",
        "         'harmonic_reduction': harmonic_reduction_column}\n",
        "    return pd.DataFrame(data=d)\n",
        "\n",
        "sonic_df = create_midi_dataframe(target_games)"
      ],
      "execution_count": null,
      "outputs": [
        {
          "output_type": "stream",
          "text": [
            "Error on final-boss-5-.mid\n",
            "cannot place element  with start/end 368.0/368.0 within any measures\n",
            "Error on hydro-city-zone-act-2-speedy-remix-.mid\n",
            "cannot place element <music21.tempo.MetronomeMark Quarter=125.0> with start/end 404.0/404.0 within any measures\n",
            "Error on launch-base-electro-nation-mix-.mid\n",
            "cannot place element  with start/end 208.0/208.0 within any measures\n",
            "Error on ice-cap-zone-good-future-remix-.mid\n",
            "cannot place element  with start/end 452.0/452.0 within any measures\n",
            "Error on final-boss-2-.mid\n",
            "cannot place element <music21.meter.TimeSignature 4/4> with start/end 268.0/268.0 within any measures\n"
          ],
          "name": "stdout"
        }
      ]
    },
    {
      "cell_type": "code",
      "metadata": {
        "colab": {
          "base_uri": "https://localhost:8080/",
          "height": 476
        },
        "id": "OLaOKBFKEEGV",
        "outputId": "78f0565c-b12b-400e-cf53-5d9a36831b54"
      },
      "source": [
        "sonic_df # the data frame is viewed"
      ],
      "execution_count": null,
      "outputs": [
        {
          "output_type": "execute_result",
          "data": {
            "text/html": [
              "<div>\n",
              "<style scoped>\n",
              "    .dataframe tbody tr th:only-of-type {\n",
              "        vertical-align: middle;\n",
              "    }\n",
              "\n",
              "    .dataframe tbody tr th {\n",
              "        vertical-align: top;\n",
              "    }\n",
              "\n",
              "    .dataframe thead th {\n",
              "        text-align: right;\n",
              "    }\n",
              "</style>\n",
              "<table border=\"1\" class=\"dataframe\">\n",
              "  <thead>\n",
              "    <tr style=\"text-align: right;\">\n",
              "      <th></th>\n",
              "      <th>midi_name</th>\n",
              "      <th>game_name</th>\n",
              "      <th>key_signature</th>\n",
              "      <th>harmonic_reduction</th>\n",
              "    </tr>\n",
              "  </thead>\n",
              "  <tbody>\n",
              "    <tr>\n",
              "      <th>0</th>\n",
              "      <td>marble-zone-9-.mid</td>\n",
              "      <td>sonic1</td>\n",
              "      <td>d minor</td>\n",
              "      <td>[ii, ii, ii, III, III53, i, i, ii, III65, ii, ...</td>\n",
              "    </tr>\n",
              "    <tr>\n",
              "      <th>1</th>\n",
              "      <td>spring-yard-zone.mid</td>\n",
              "      <td>sonic1</td>\n",
              "      <td>d minor</td>\n",
              "      <td>[III42, ii42, v, #iii42, III, ii42, v, #iii42,...</td>\n",
              "    </tr>\n",
              "    <tr>\n",
              "      <th>2</th>\n",
              "      <td>labyrinth-zone-5-.mid</td>\n",
              "      <td>sonic1</td>\n",
              "      <td>C major</td>\n",
              "      <td>[ii7, I53, iii64, I53, iii64, IV53, vi64, IV53...</td>\n",
              "    </tr>\n",
              "    <tr>\n",
              "      <th>3</th>\n",
              "      <td>marble-zone.mid</td>\n",
              "      <td>sonic1</td>\n",
              "      <td>d minor</td>\n",
              "      <td>[ii7, ii53, ii53, III, III, i53, i53, ii, ii43...</td>\n",
              "    </tr>\n",
              "    <tr>\n",
              "      <th>4</th>\n",
              "      <td>final-zone-arranged-v1-1-.mid</td>\n",
              "      <td>sonic1</td>\n",
              "      <td>a minor</td>\n",
              "      <td>[V64, i42, i, vi7, v, i42, i, vi7, iii, -VI64,...</td>\n",
              "    </tr>\n",
              "    <tr>\n",
              "      <th>...</th>\n",
              "      <td>...</td>\n",
              "      <td>...</td>\n",
              "      <td>...</td>\n",
              "      <td>...</td>\n",
              "    </tr>\n",
              "    <tr>\n",
              "      <th>446</th>\n",
              "      <td>flying-battery-zone-act-2-8-.mid</td>\n",
              "      <td>sonicAndKnuckles</td>\n",
              "      <td>a minor</td>\n",
              "      <td>[i, i, i42, i, -VI6, i, i42, i, -VI6, i42, III...</td>\n",
              "    </tr>\n",
              "    <tr>\n",
              "      <th>447</th>\n",
              "      <td>flying-battery-zone-time-travel-remix-.mid</td>\n",
              "      <td>sonicAndKnuckles</td>\n",
              "      <td>f minor</td>\n",
              "      <td>[iv, V, i, #vi65, V, i, i, V, #vi65, V, i, #vi...</td>\n",
              "    </tr>\n",
              "    <tr>\n",
              "      <th>448</th>\n",
              "      <td>flying-battery-zone-act-1-6-.mid</td>\n",
              "      <td>sonicAndKnuckles</td>\n",
              "      <td>a minor</td>\n",
              "      <td>[iv, i42, i42, -VI65, #vi, i42, i42, -VI65, #v...</td>\n",
              "    </tr>\n",
              "    <tr>\n",
              "      <th>449</th>\n",
              "      <td>flying-battery-zone-act-1-7-.mid</td>\n",
              "      <td>sonicAndKnuckles</td>\n",
              "      <td>a minor</td>\n",
              "      <td>[iv, i53, iv43, -VI65, -VI65, i53, iv43, -VI65...</td>\n",
              "    </tr>\n",
              "    <tr>\n",
              "      <th>450</th>\n",
              "      <td>act-1-boss-mechanical-onslaught-remix-.mid</td>\n",
              "      <td>sonicAndKnuckles</td>\n",
              "      <td>e minor</td>\n",
              "      <td>[vii43, i, vii42, i, ii, i, i65, i, i64, v42, ...</td>\n",
              "    </tr>\n",
              "  </tbody>\n",
              "</table>\n",
              "<p>451 rows × 4 columns</p>\n",
              "</div>"
            ],
            "text/plain": [
              "                                      midi_name  ...                                 harmonic_reduction\n",
              "0                            marble-zone-9-.mid  ...  [ii, ii, ii, III, III53, i, i, ii, III65, ii, ...\n",
              "1                          spring-yard-zone.mid  ...  [III42, ii42, v, #iii42, III, ii42, v, #iii42,...\n",
              "2                         labyrinth-zone-5-.mid  ...  [ii7, I53, iii64, I53, iii64, IV53, vi64, IV53...\n",
              "3                               marble-zone.mid  ...  [ii7, ii53, ii53, III, III, i53, i53, ii, ii43...\n",
              "4                 final-zone-arranged-v1-1-.mid  ...  [V64, i42, i, vi7, v, i42, i, vi7, iii, -VI64,...\n",
              "..                                          ...  ...                                                ...\n",
              "446            flying-battery-zone-act-2-8-.mid  ...  [i, i, i42, i, -VI6, i, i42, i, -VI6, i42, III...\n",
              "447  flying-battery-zone-time-travel-remix-.mid  ...  [iv, V, i, #vi65, V, i, i, V, #vi65, V, i, #vi...\n",
              "448            flying-battery-zone-act-1-6-.mid  ...  [iv, i42, i42, -VI65, #vi, i42, i42, -VI65, #v...\n",
              "449            flying-battery-zone-act-1-7-.mid  ...  [iv, i53, iv43, -VI65, -VI65, i53, iv43, -VI65...\n",
              "450  act-1-boss-mechanical-onslaught-remix-.mid  ...  [vii43, i, vii42, i, ii, i, i65, i, i64, v42, ...\n",
              "\n",
              "[451 rows x 4 columns]"
            ]
          },
          "metadata": {
            "tags": []
          },
          "execution_count": 22
        }
      ]
    },
    {
      "cell_type": "code",
      "metadata": {
        "id": "SBBTXS8wjsjJ"
      },
      "source": [
        "writer = pd.ExcelWriter('/content/Sonic_MIDI.xlsx')\n",
        "sonic_df.to_excel(writer)\n",
        "writer.save()  #it is saved an excel file to process"
      ],
      "execution_count": null,
      "outputs": []
    },
    {
      "cell_type": "code",
      "metadata": {
        "id": "XFKsP0xqLzWC"
      },
      "source": [
        "import pandas as pd\n",
        "import numpy as np\n",
        "\n",
        "sonic_df = pd.read_excel(\"/content/Sonic_MIDI.xlsx\") #The file is again read to the file for further process"
      ],
      "execution_count": null,
      "outputs": []
    },
    {
      "cell_type": "code",
      "metadata": {
        "id": "LEseoSI0EvJ5"
      },
      "source": [
        "# import modules & set up logging\n",
        "import gensim, logging\n",
        "# logging.basicConfig(format='%(asctime)s : %(levelname)s : %(message)s', level=logging.INFO)\n",
        " \n",
        "model = gensim.models.Word2Vec(sonic_df[\"harmonic_reduction\"], min_count=2, window=4) #Word2vec model is used to train the dataframe chords\n",
        "#for identification of similar chords"
      ],
      "execution_count": null,
      "outputs": []
    },
    {
      "cell_type": "code",
      "metadata": {
        "colab": {
          "base_uri": "https://localhost:8080/"
        },
        "id": "MYYG54iNjSAV",
        "outputId": "55169044-78b5-49bb-e543-9932b31e084b"
      },
      "source": [
        "\n",
        "def vectorize_harmony(model, harmonic_reduction):\n",
        "    # Gets the model vector values for each chord from the reduction.\n",
        "    word_vecs = []\n",
        "    for word in harmonic_reduction:\n",
        "        try:\n",
        "            vec = model[word]\n",
        "            word_vecs.append(vec)\n",
        "        except KeyError:\n",
        "            # Ignore, if the word doesn't exist in the vocabulary\n",
        "            pass\n",
        "    \n",
        "    # Assuming that document vector is the mean of all the word vectors.\n",
        "    return np.mean(word_vecs, axis=0)\n",
        "\n",
        "def cosine_similarity(vecA, vecB):\n",
        "    # Find the similarity between two vectors based on the dot product.\n",
        "    csim = np.dot(vecA, vecB) / (np.linalg.norm(vecA) * np.linalg.norm(vecB))\n",
        "    if np.isnan(np.sum(csim)):\n",
        "        return 0\n",
        "    \n",
        "    return csim\n",
        "\n",
        "def calculate_similarity_aux(df, model, source_names=[], target_names=[], threshold=0):\n",
        "    final_results = []\n",
        "    for sname in source_names:\n",
        "        source_harmo = df[df[\"midi_name\"] == sname][\"harmonic_reduction\"].values[0]\n",
        "        source_vec = vectorize_harmony(model, source_harmo)\n",
        "        results = []\n",
        "        if (len(source_harmo) == 0):\n",
        "                continue\n",
        "        for name in target_names:\n",
        "            target_harmo = df[df[\"midi_name\"] == name][\"harmonic_reduction\"].values[0]\n",
        "            if (len(target_harmo) == 0):\n",
        "                continue\n",
        "            \n",
        "            target_vec = vectorize_harmony(model, target_harmo)       \n",
        "            sim_score = cosine_similarity(source_vec, target_vec)\n",
        "            if sim_score > threshold:\n",
        "                results.append({\n",
        "                    'score' : sim_score,\n",
        "                    'sourcename' : sname,\n",
        "                    'targetname' : name,\n",
        "                    'sourceChord'  : source_harmo,\n",
        "                    'targetChord'  : target_harmo\n",
        "                })\n",
        "                \n",
        "        # Sort results by score in desc order\n",
        "        results.sort(key=lambda k : k['score'] , reverse=True)\n",
        "        final_results.append(results)\n",
        "    return final_results\n",
        "\n",
        "def calculate_similarity(df, model, source_sufix, target_sufix, threshold=0):\n",
        "    source_midi_names = df[df[\"midi_name\"].str.endswith(source_sufix)][\"midi_name\"].values \n",
        "    if (len(source_midi_names) == 0):\n",
        "        print(\"Invalid source name\")\n",
        "        return\n",
        "    \n",
        "    #source_midi_name = source_midi_names[0]\n",
        "    \n",
        "    target_midi_names = df[df[\"midi_name\"].str.endswith(target_sufix)][\"midi_name\"].values  \n",
        "    if (len(target_midi_names) == 0):\n",
        "        print(\"Invalid target prefix\")\n",
        "        return\n",
        "    \n",
        "    return calculate_similarity_aux(df, model, source_midi_names, target_midi_names, threshold)\n",
        "\n",
        "\n",
        "\n",
        "similarity_records = calculate_similarity(sonic_df, model, \"mid\", \"mid\") \n",
        "\n",
        "      \n"
      ],
      "execution_count": null,
      "outputs": [
        {
          "output_type": "stream",
          "text": [
            "/usr/local/lib/python3.7/dist-packages/ipykernel_launcher.py:7: DeprecationWarning: Call to deprecated `__getitem__` (Method will be removed in 4.0.0, use self.wv.__getitem__() instead).\n",
            "  import sys\n"
          ],
          "name": "stderr"
        }
      ]
    },
    {
      "cell_type": "code",
      "metadata": {
        "colab": {
          "background_save": true
        },
        "id": "g7hJAZm7_o0h",
        "outputId": "e5ad2756-b677-43f4-d230-b688f5aa507a"
      },
      "source": [
        "similarity_df = pd.DataFrame()  #using cosine similarity to find the similarity between the source chord and the target chord\n",
        "len(similarity_records)  #this data is prepared to be run on the other major models for comparison\n",
        "for record in similarity_records:\n",
        "    for subrecord in record:\n",
        "        similarity_df = similarity_df.append(subrecord,ignore_index=True)\n",
        "        \n",
        "\n",
        "similarity_df.head()"
      ],
      "execution_count": null,
      "outputs": [
        {
          "output_type": "execute_result",
          "data": {
            "text/html": [
              "<div>\n",
              "<style scoped>\n",
              "    .dataframe tbody tr th:only-of-type {\n",
              "        vertical-align: middle;\n",
              "    }\n",
              "\n",
              "    .dataframe tbody tr th {\n",
              "        vertical-align: top;\n",
              "    }\n",
              "\n",
              "    .dataframe thead th {\n",
              "        text-align: right;\n",
              "    }\n",
              "</style>\n",
              "<table border=\"1\" class=\"dataframe\">\n",
              "  <thead>\n",
              "    <tr style=\"text-align: right;\">\n",
              "      <th></th>\n",
              "      <th>score</th>\n",
              "      <th>sourceChord</th>\n",
              "      <th>sourcename</th>\n",
              "      <th>targetChord</th>\n",
              "      <th>targetname</th>\n",
              "    </tr>\n",
              "  </thead>\n",
              "  <tbody>\n",
              "    <tr>\n",
              "      <th>0</th>\n",
              "      <td>1.000000</td>\n",
              "      <td>['ii', 'ii', 'ii', 'III', 'III53', 'i', 'i', '...</td>\n",
              "      <td>marble-zone-9-.mid</td>\n",
              "      <td>['ii', 'ii', 'ii', 'III', 'III53', 'i', 'i', '...</td>\n",
              "      <td>marble-zone-9-.mid</td>\n",
              "    </tr>\n",
              "    <tr>\n",
              "      <th>1</th>\n",
              "      <td>0.994848</td>\n",
              "      <td>['ii', 'ii', 'ii', 'III', 'III53', 'i', 'i', '...</td>\n",
              "      <td>marble-zone-9-.mid</td>\n",
              "      <td>['ii', 'ii53', 'ii', 'ii', 'III', 'III', 'i', ...</td>\n",
              "      <td>marble-zone-8-.mid</td>\n",
              "    </tr>\n",
              "    <tr>\n",
              "      <th>2</th>\n",
              "      <td>0.992170</td>\n",
              "      <td>['ii', 'ii', 'ii', 'III', 'III53', 'i', 'i', '...</td>\n",
              "      <td>marble-zone-9-.mid</td>\n",
              "      <td>['-', 'I65', 'iv42', 'I6', 'I', 'III53', 'III'...</td>\n",
              "      <td>death-egg-zone-3-.mid</td>\n",
              "    </tr>\n",
              "    <tr>\n",
              "      <th>3</th>\n",
              "      <td>0.992129</td>\n",
              "      <td>['ii', 'ii', 'ii', 'III', 'III53', 'i', 'i', '...</td>\n",
              "      <td>marble-zone-9-.mid</td>\n",
              "      <td>['-', '#vi42', 'iv43', 'iv43', 'iv43', 'iv43',...</td>\n",
              "      <td>mystic-cave-zone-2-player-3-.mid</td>\n",
              "    </tr>\n",
              "    <tr>\n",
              "      <th>4</th>\n",
              "      <td>0.991262</td>\n",
              "      <td>['ii', 'ii', 'ii', 'III', 'III53', 'i', 'i', '...</td>\n",
              "      <td>marble-zone-9-.mid</td>\n",
              "      <td>['ii', '-VII65', 'ii', 'ii', 'III', 'III', 'i'...</td>\n",
              "      <td>marble-zone-2-.mid</td>\n",
              "    </tr>\n",
              "  </tbody>\n",
              "</table>\n",
              "</div>"
            ],
            "text/plain": [
              "      score  ...                        targetname\n",
              "0  1.000000  ...                marble-zone-9-.mid\n",
              "1  0.994848  ...                marble-zone-8-.mid\n",
              "2  0.992170  ...             death-egg-zone-3-.mid\n",
              "3  0.992129  ...  mystic-cave-zone-2-player-3-.mid\n",
              "4  0.991262  ...                marble-zone-2-.mid\n",
              "\n",
              "[5 rows x 5 columns]"
            ]
          },
          "metadata": {
            "tags": []
          },
          "execution_count": 0
        }
      ]
    },
    {
      "cell_type": "code",
      "metadata": {
        "id": "xkzbUVDlOcvt"
      },
      "source": [
        "writer = pd.ExcelWriter('/content/Sonic_similarity.xlsx')#creating another dataframe for verification\n",
        "similarity_df.to_excel(writer)\n",
        "writer.save()"
      ],
      "execution_count": null,
      "outputs": []
    },
    {
      "cell_type": "code",
      "metadata": {
        "colab": {
          "base_uri": "https://localhost:8080/",
          "height": 206
        },
        "id": "qT-LAoKpIo6w",
        "outputId": "3040e822-8131-4848-e513-61fa6bbfda5f"
      },
      "source": [
        ""
      ],
      "execution_count": null,
      "outputs": [
        {
          "output_type": "execute_result",
          "data": {
            "text/html": [
              "<div>\n",
              "<style scoped>\n",
              "    .dataframe tbody tr th:only-of-type {\n",
              "        vertical-align: middle;\n",
              "    }\n",
              "\n",
              "    .dataframe tbody tr th {\n",
              "        vertical-align: top;\n",
              "    }\n",
              "\n",
              "    .dataframe thead th {\n",
              "        text-align: right;\n",
              "    }\n",
              "</style>\n",
              "<table border=\"1\" class=\"dataframe\">\n",
              "  <thead>\n",
              "    <tr style=\"text-align: right;\">\n",
              "      <th></th>\n",
              "      <th>score</th>\n",
              "      <th>sourcename</th>\n",
              "      <th>targetname</th>\n",
              "    </tr>\n",
              "  </thead>\n",
              "  <tbody>\n",
              "    <tr>\n",
              "      <th>203394</th>\n",
              "      <td>0.403061</td>\n",
              "      <td>act-1-boss-mechanical-onslaught-remix-.mid</td>\n",
              "      <td>ice-cap-zone-act-1-13-.mid</td>\n",
              "    </tr>\n",
              "    <tr>\n",
              "      <th>203395</th>\n",
              "      <td>0.397574</td>\n",
              "      <td>act-1-boss-mechanical-onslaught-remix-.mid</td>\n",
              "      <td>ice-cap-zone-act-1-3-.mid</td>\n",
              "    </tr>\n",
              "    <tr>\n",
              "      <th>203396</th>\n",
              "      <td>0.396737</td>\n",
              "      <td>act-1-boss-mechanical-onslaught-remix-.mid</td>\n",
              "      <td>ice-cap-zone-act-1-2-.mid</td>\n",
              "    </tr>\n",
              "    <tr>\n",
              "      <th>203397</th>\n",
              "      <td>0.396737</td>\n",
              "      <td>act-1-boss-mechanical-onslaught-remix-.mid</td>\n",
              "      <td>ice-cap-zone-act-1.mid</td>\n",
              "    </tr>\n",
              "    <tr>\n",
              "      <th>203398</th>\n",
              "      <td>0.358232</td>\n",
              "      <td>act-1-boss-mechanical-onslaught-remix-.mid</td>\n",
              "      <td>launch-base-zone-act-1-3-.mid</td>\n",
              "    </tr>\n",
              "  </tbody>\n",
              "</table>\n",
              "</div>"
            ],
            "text/plain": [
              "           score  ...                     targetname\n",
              "203394  0.403061  ...     ice-cap-zone-act-1-13-.mid\n",
              "203395  0.397574  ...      ice-cap-zone-act-1-3-.mid\n",
              "203396  0.396737  ...      ice-cap-zone-act-1-2-.mid\n",
              "203397  0.396737  ...         ice-cap-zone-act-1.mid\n",
              "203398  0.358232  ...  launch-base-zone-act-1-3-.mid\n",
              "\n",
              "[5 rows x 3 columns]"
            ]
          },
          "metadata": {
            "tags": []
          },
          "execution_count": 74
        }
      ]
    },
    {
      "cell_type": "code",
      "metadata": {
        "id": "ATbChKkie-LB"
      },
      "source": [
        "sonic_df = sonic_df.sample(frac=1).reset_index(drop=True)#shuffling the values in the data frame"
      ],
      "execution_count": null,
      "outputs": []
    },
    {
      "cell_type": "code",
      "metadata": {
        "id": "kBH1DwJaiq7m"
      },
      "source": [
        "writer = pd.ExcelWriter('/content/Sonic_similarity_shuffled.xlsx')#final dataframe is written to excel file\n",
        "sonic_df.to_excel(writer)\n",
        "writer.save()"
      ],
      "execution_count": null,
      "outputs": []
    }
  ]
}